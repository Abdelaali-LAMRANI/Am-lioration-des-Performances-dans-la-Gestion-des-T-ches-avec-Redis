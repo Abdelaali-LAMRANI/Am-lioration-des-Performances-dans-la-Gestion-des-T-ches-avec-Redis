{
 "cells": [
  {
   "cell_type": "code",
   "execution_count": 2,
   "id": "476868ee",
   "metadata": {},
   "outputs": [],
   "source": [
    "import pickle\n",
    "\n",
    "def lire(data):\n",
    "    # Convertir la chaîne en un objet de type bytes\n",
    "    serialized_data = data.encode('latin1')\n",
    "\n",
    "    # Charger les données avec pickle\n",
    "    loaded_data = pickle.loads(serialized_data)\n",
    "\n",
    "    # Afficher chaque élément individuellement\n",
    "    for task in loaded_data:\n",
    "        print(\"ID:\", task[\"id\"])\n",
    "        print(\"Task Name:\", task[\"task_name\"])\n",
    "        print(\"Task Description:\", task[\"task_description\"])\n",
    "        print(\"Task Due Date:\", task[\"task_due_date\"])\n",
    "        print(\"Task Priority:\", task[\"task_priority\"])\n",
    "        print(\"Task Status:\", task[\"task_status\"])\n",
    "        print()\n",
    "\n"
   ]
  },
  {
   "cell_type": "code",
   "execution_count": 4,
   "id": "181dd6f8",
   "metadata": {},
   "outputs": [
    {
     "name": "stdout",
     "output_type": "stream",
     "text": [
      "ID: 88\n",
      "Task Name: playing \n",
      "Task Description: football\n",
      "Task Due Date: 2023-12-18\n",
      "Task Priority: faible\n",
      "Task Status: not_done\n",
      "\n"
     ]
    }
   ],
   "source": [
    "# Utilisation de la fonction avec votre exemple\n",
    "serialized_data = '\\x80\\x05\\x95\\xa5\\x00\\x00\\x00\\x00\\x00\\x00\\x00]\\x94}\\x94(\\x8c\\x02id\\x94KX\\x8c\\ttask_name\\x94\\x8c\\bplaying \\x94\\x8c\\x10task_description\\x94\\x8c\\bfootball\\x94\\x8c\\rtask_due_date\\x94\\x8c\\bdatetime\\x94\\x8c\\x04date\\x94\\x93\\x94C\\x04\\a\\xe7\\x0c\\x12\\x94\\x85\\x94R\\x94\\x8c\\rtask_priority\\x94\\x8c\\x06faible\\x94\\x8c\\x0btask_status\\x94\\x8c\\bnot_done\\x94ua.'\n",
    "lire(serialized_data)\n"
   ]
  },
  {
   "cell_type": "code",
   "execution_count": null,
   "id": "26305d0c",
   "metadata": {},
   "outputs": [],
   "source": []
  }
 ],
 "metadata": {
  "kernelspec": {
   "display_name": "Python 3 (ipykernel)",
   "language": "python",
   "name": "python3"
  },
  "language_info": {
   "codemirror_mode": {
    "name": "ipython",
    "version": 3
   },
   "file_extension": ".py",
   "mimetype": "text/x-python",
   "name": "python",
   "nbconvert_exporter": "python",
   "pygments_lexer": "ipython3",
   "version": "3.11.5"
  }
 },
 "nbformat": 4,
 "nbformat_minor": 5
}
